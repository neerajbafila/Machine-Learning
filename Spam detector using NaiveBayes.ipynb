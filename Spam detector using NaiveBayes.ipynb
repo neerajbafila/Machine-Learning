{
 "cells": [
  {
   "cell_type": "code",
   "execution_count": 151,
   "metadata": {},
   "outputs": [
    {
     "name": "stderr",
     "output_type": "stream",
     "text": [
      "c:\\users\\neeraj bafila\\appdata\\local\\programs\\python\\python36\\lib\\site-packages\\ipykernel_launcher.py:6: FutureWarning: read_table is deprecated, use read_csv instead, passing sep='\\t'.\n",
      "  \n"
     ]
    },
    {
     "name": "stdout",
     "output_type": "stream",
     "text": [
      "Spam % is  13.406317300789663\n",
      "y_pridict  [0 0 0 ... 0 1 0]\n",
      "accuracy_score is  0.9770279971284996\n",
      "confusion_matrix is  [[1207    1]\n",
      " [  31  154]]\n",
      "auc score is 0.9967692858421334\n",
      "roc_auc_score is  0.915802308931448\n"
     ]
    },
    {
     "data": {
      "text/plain": [
       "Text(0.5, 1.0, 'ROC')"
      ]
     },
     "execution_count": 151,
     "metadata": {},
     "output_type": "execute_result"
    },
    {
     "data": {
      "image/png": "[encoded data removed]",
      "text/plain": [
       "<Figure size 432x288 with 1 Axes>"
      ]
     },
     "metadata": {
      "needs_background": "light"
     },
     "output_type": "display_data"
    }
   ],
   "source": [
    "import pandas as pd\n",
    "import numpy as np\n",
    "import matplotlib.pyplot as plt\n",
    "%matplotlib inline\n",
    "\n",
    "docs = pd.read_table('SMSSpamCollection+(1)', header=None, names=['Class', 'SMS'])\n",
    "\n",
    "#docs.head()\n",
    "\n",
    "docs['Class'].unique()\n",
    "\n",
    "ham_spam = docs['Class'].value_counts()\n",
    "\n",
    "print(\"Spam % is \",(ham_spam[1]/float(ham_spam[0]+ham_spam[1]))*100)\n",
    "\n",
    "#docs.head(3)\n",
    "\n",
    "docs['label'] = docs['Class'].map({'ham':0, 'spam':1})\n",
    "\n",
    "docs.head()\n",
    "\n",
    "X = docs['SMS']\n",
    "\n",
    "y = docs['label']\n",
    "\n",
    "# print(X.shape)\n",
    "\n",
    "# y.shape\n",
    "\n",
    "from sklearn.model_selection import train_test_split\n",
    "\n",
    "X_train, X_test, y_train, y_test = train_test_split(X, y, test_size=0.25, random_state=1)\n",
    "\n",
    "# X_train.head()\n",
    "\n",
    "# y_train.head()\n",
    "\n",
    "from sklearn.feature_extraction.text import CountVectorizer \n",
    "\n",
    "cvr = CountVectorizer(stop_words='english')\n",
    "\n",
    "cvr.fit(X_train)\n",
    "\n",
    "X_train_transform = cvr.transform(X_train)\n",
    "\n",
    "#print(X_train_transform)\n",
    "\n",
    "# X_train_transform_metrics = X_train_transform.toarray()\n",
    "\n",
    "# #cvr.vocabulary_\n",
    "\n",
    "# #cvr.get_feature_names()\n",
    "\n",
    "# df_bag = pd.DataFrame(X_train_transform_metrics, columns=cvr.get_feature_names())\n",
    "# print(df_bag.columns)\n",
    "\n",
    "X_test_transform = cvr.transform(X_test)\n",
    "\n",
    "from sklearn.naive_bayes import BernoulliNB\n",
    "\n",
    "bnb = BernoulliNB()\n",
    "\n",
    "bnb.fit(X_train_transform, y_train)\n",
    "\n",
    "y_pridict = bnb.predict(X_test_transform)\n",
    "\n",
    "print('y_pridict ', y_pridict)\n",
    "\n",
    "y_prob_pridict = bnb.predict_proba(X_test_transform)\n",
    "\n",
    "#y_prob_pridict\n",
    "\n",
    "from sklearn.metrics import accuracy_score, confusion_matrix\n",
    "\n",
    "print('accuracy_score is ', accuracy_score(y_test, y_pridict))\n",
    "\n",
    "print('confusion_matrix is ', confusion_matrix(y_test, y_pridict))\n",
    "\n",
    "from sklearn.metrics import roc_curve, auc, roc_auc_score\n",
    "\n",
    "false_positive_rate, true_positive_rate, thresholds = roc_curve(y_test, y_prob_pridict[:,1])\n",
    "\n",
    "auc_score = auc(false_positive_rate, true_positive_rate)\n",
    "\n",
    "print('auc score is', auc_score)\n",
    "\n",
    "print('roc_auc_score is ',roc_auc_score(y_test, y_pridict))\n",
    "\n",
    "false_positive_rate\n",
    "\n",
    "true_positive_rate\n",
    "\n",
    "thresholds\n",
    "\n",
    "%matplotlib inline\n",
    "plt.plot(false_positive_rate, true_positive_rate)\n",
    "plt.xlabel(\"false_positive_rate\")\n",
    "plt.ylabel(\"true_positive_rate\")\n",
    "plt.title('ROC')"
   ]
  },
  {
   "cell_type": "code",
   "execution_count": null,
   "metadata": {},
   "outputs": [],
   "source": []
  }
 ],
 "metadata": {
  "kernelspec": {
   "display_name": "Python 3",
   "language": "python",
   "name": "python3"
  },
  "language_info": {
   "codemirror_mode": {
    "name": "ipython",
    "version": 3
   },
   "file_extension": ".py",
   "mimetype": "text/x-python",
   "name": "python",
   "nbconvert_exporter": "python",
   "pygments_lexer": "ipython3",
   "version": "3.6.4"
  }
 },
 "nbformat": 4,
 "nbformat_minor": 2
}
